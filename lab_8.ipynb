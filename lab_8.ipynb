{
  "cells": [
    {
      "cell_type": "markdown",
      "metadata": {
        "id": "9CzBiOBN2qAz"
      },
      "source": [
        "# Diamond Company Analytics Challenge\n",
        "\n",
        "**Time:** 35 minutes\n",
        "\n",
        "**Scenario:** You are the new data analyst at a prestigious diamond company. The CEO has called an urgent meeting and needs answers to critical business questions about the inventory.\n",
        "\n",
        "**Your Mission:** Analyze the diamond inventory data and provide insights to guide strategic decisions."
      ]
    },
    {
      "cell_type": "code",
      "execution_count": null,
      "metadata": {
        "colab": {
          "base_uri": "https://localhost:8080/"
        },
        "id": "kZebWH-g2qA1",
        "outputId": "c44e1f28-16ec-4583-f825-e2f9de8503e6"
      },
      "outputs": [
        {
          "output_type": "stream",
          "name": "stdout",
          "text": [
            "Loading diamonds dataset...\n",
            "Dataset loaded successfully!\n"
          ]
        }
      ],
      "source": [
        "import polars as pl\n",
        "\n",
        "# Load the diamonds dataset\n",
        "print(\"Loading diamonds dataset...\")\n",
        "df = pl.read_csv('https://raw.githubusercontent.com/pycaret/pycaret/master/datasets/diamond.csv')\n",
        "print(\"Dataset loaded successfully!\")"
      ]
    },
    {
      "cell_type": "markdown",
      "metadata": {
        "id": "00MAthS_2qA2"
      },
      "source": [
        "## Section 1: Initial Inventory Assessment (5 minutes)\n",
        "\n",
        "The CEO walks in: \"Before we dive into specifics, I need to understand what we're working with. Give me the basics about our inventory database.\""
      ]
    },
    {
      "cell_type": "markdown",
      "metadata": {
        "id": "W3fml-he2qA3"
      },
      "source": [
        "### Question 1: \"How extensive is our inventory database?\"\n",
        "\n",
        "The CEO needs to know the scale of data you're analyzing."
      ]
    },
    {
      "cell_type": "code",
      "execution_count": null,
      "metadata": {
        "colab": {
          "base_uri": "https://localhost:8080/"
        },
        "id": "KXqxqY7N2qA3",
        "outputId": "0933330c-3c02-47fb-ba65-c6dcee520e92"
      },
      "outputs": [
        {
          "output_type": "execute_result",
          "data": {
            "text/plain": [
              "(6000, 8)"
            ]
          },
          "metadata": {},
          "execution_count": 3
        }
      ],
      "source": [
        "# Your code here:\n",
        "df.shape"
      ]
    },
    {
      "cell_type": "markdown",
      "metadata": {
        "id": "XojWO96w2qA3"
      },
      "source": [
        "### Question 2: \"What information do we track about each diamond?\"\n",
        "\n",
        "List all the characteristics we record."
      ]
    },
    {
      "cell_type": "code",
      "execution_count": null,
      "metadata": {
        "colab": {
          "base_uri": "https://localhost:8080/"
        },
        "id": "2R1BO5-g2qA3",
        "outputId": "5423c078-db22-483c-ad73-484745d4f0c3"
      },
      "outputs": [
        {
          "output_type": "execute_result",
          "data": {
            "text/plain": [
              "['Carat Weight',\n",
              " 'Cut',\n",
              " 'Color',\n",
              " 'Clarity',\n",
              " 'Polish',\n",
              " 'Symmetry',\n",
              " 'Report',\n",
              " 'Price']"
            ]
          },
          "metadata": {},
          "execution_count": 5
        }
      ],
      "source": [
        "# Your code here:\n",
        "df.columns"
      ]
    },
    {
      "cell_type": "markdown",
      "metadata": {
        "id": "tPhL5qkB2qA3"
      },
      "source": [
        "### Question 3: \"When I look at one line in this database, what am I looking at?\"\n",
        "\n",
        "Explain in business terms:"
      ]
    },
    {
      "cell_type": "markdown",
      "metadata": {
        "id": "LcXLhA1z2qA4"
      },
      "source": [
        "\\**Your answer:** Each row represents: Each represents a diamond"
      ]
    },
    {
      "cell_type": "markdown",
      "metadata": {
        "id": "bPkFykMg2qA4"
      },
      "source": [
        "## Section 2: Strategic Business Questions (20 minutes)\n",
        "\n",
        "The CEO continues: \"Now let's get to the important questions. Our board meeting is tomorrow and I need concrete numbers.\""
      ]
    },
    {
      "cell_type": "markdown",
      "metadata": {
        "id": "IFV87ZhE2qA4"
      },
      "source": [
        "### Question 4: \"We're considering expanding our storage facilities. How many total carats do we have in inventory? I need to know if our vaults can handle the weight.\"\n",
        "\n",
        "Think about what measurement would help answer this."
      ]
    },
    {
      "cell_type": "code",
      "execution_count": null,
      "metadata": {
        "colab": {
          "base_uri": "https://localhost:8080/"
        },
        "id": "tfGH14Hq2qA4",
        "outputId": "b92ef845-a278-40c1-9244-20a2ded344fb"
      },
      "outputs": [
        {
          "output_type": "execute_result",
          "data": {
            "text/plain": [
              "8007.120000000001"
            ]
          },
          "metadata": {},
          "execution_count": 7
        }
      ],
      "source": [
        "# Your code here:\n",
        "df['Carat Weight'].sum()"
      ]
    },
    {
      "cell_type": "markdown",
      "metadata": {
        "id": "cFd8_eQM2qA4"
      },
      "source": [
        "### Question 5: \"Our new marketing campaign claims we have 'the widest variety of cuts in the industry.' Can you verify this?\"\n",
        "\n",
        "The CEO wants to know about variety, not quantity."
      ]
    },
    {
      "cell_type": "code",
      "execution_count": null,
      "metadata": {
        "colab": {
          "base_uri": "https://localhost:8080/"
        },
        "id": "Whn0iGvo2qA4",
        "outputId": "e2af0925-e73b-4750-dd08-6a7e11480790"
      },
      "outputs": [
        {
          "output_type": "execute_result",
          "data": {
            "text/plain": [
              "909"
            ]
          },
          "metadata": {},
          "execution_count": 13
        }
      ],
      "source": [
        "# Your code here:\n",
        "df.unique(subset=['Cut','Color','Clarity','Polish','Symmetry','Report']).shape[0]"
      ]
    },
    {
      "cell_type": "markdown",
      "metadata": {
        "id": "LfPWBPq22qA4"
      },
      "source": [
        "### Question 6: \"I'm meeting with our insurance company. They need to know our price exposure - what's our most and least valuable diamond?\""
      ]
    },
    {
      "cell_type": "code",
      "execution_count": null,
      "metadata": {
        "colab": {
          "base_uri": "https://localhost:8080/"
        },
        "id": "fMiPQ71Q2qA4",
        "outputId": "63dfe45c-0000-4a00-f61b-1afe9ad5fa69"
      },
      "outputs": [
        {
          "output_type": "stream",
          "name": "stdout",
          "text": [
            "2184 101561\n"
          ]
        }
      ],
      "source": [
        "# Your code here:\n",
        "print(df['Price'].min(), df['Price'].max())"
      ]
    },
    {
      "cell_type": "markdown",
      "metadata": {
        "id": "tuA6ESb-2qA4"
      },
      "source": [
        "### Question 7: \"Which color grades should we focus on in our premium line? I need typical prices across our color spectrum.\"\n",
        "\n",
        "The CEO wants to understand pricing patterns."
      ]
    },
    {
      "cell_type": "code",
      "execution_count": null,
      "metadata": {
        "colab": {
          "base_uri": "https://localhost:8080/",
          "height": 286
        },
        "id": "W3kpVkwq2qA5",
        "outputId": "77b4359b-bad9-49fc-f33f-91cd0fb22c2d"
      },
      "outputs": [
        {
          "output_type": "execute_result",
          "data": {
            "text/plain": [
              "shape: (6, 2)\n",
              "┌───────┬──────────────┐\n",
              "│ Color ┆ Price        │\n",
              "│ ---   ┆ ---          │\n",
              "│ str   ┆ f64          │\n",
              "╞═══════╪══════════════╡\n",
              "│ D     ┆ 15255.783661 │\n",
              "│ F     ┆ 12712.241856 │\n",
              "│ G     ┆ 12520.050633 │\n",
              "│ E     ┆ 11539.190231 │\n",
              "│ H     ┆ 10487.347544 │\n",
              "│ I     ┆ 8989.636364  │\n",
              "└───────┴──────────────┘"
            ],
            "text/html": [
              "<div><style>\n",
              ".dataframe > thead > tr,\n",
              ".dataframe > tbody > tr {\n",
              "  text-align: right;\n",
              "  white-space: pre-wrap;\n",
              "}\n",
              "</style>\n",
              "<small>shape: (6, 2)</small><table border=\"1\" class=\"dataframe\"><thead><tr><th>Color</th><th>Price</th></tr><tr><td>str</td><td>f64</td></tr></thead><tbody><tr><td>&quot;D&quot;</td><td>15255.783661</td></tr><tr><td>&quot;F&quot;</td><td>12712.241856</td></tr><tr><td>&quot;G&quot;</td><td>12520.050633</td></tr><tr><td>&quot;E&quot;</td><td>11539.190231</td></tr><tr><td>&quot;H&quot;</td><td>10487.347544</td></tr><tr><td>&quot;I&quot;</td><td>8989.636364</td></tr></tbody></table></div>"
            ]
          },
          "metadata": {},
          "execution_count": 26
        }
      ],
      "source": [
        "# Your code here:\n",
        "df.group_by('Color').mean()[['Color','Price']].sort('Price', descending=True)"
      ]
    },
    {
      "cell_type": "markdown",
      "metadata": {
        "id": "yf_dYMf12qA5"
      },
      "source": [
        "**Reflection:** After analyzing by color, how has your view of the data changed? What does each row in your result represent now?"
      ]
    },
    {
      "cell_type": "markdown",
      "metadata": {
        "id": "aJdsBJpz2qA5"
      },
      "source": [
        "**Your answer:** New grain ="
      ]
    },
    {
      "cell_type": "markdown",
      "metadata": {
        "id": "yypIwHaJ2qA5"
      },
      "source": [
        "## Section 3: Advanced Strategic Analysis (10 minutes)\n",
        "\n",
        "The CEO leans forward: \"These next questions will shape our strategy for next year.\""
      ]
    },
    {
      "cell_type": "markdown",
      "metadata": {
        "id": "IhaSEKRi2qA5"
      },
      "source": [
        "### Question 8: \"We're thinking of specializing in certain clarity grades. For our investor deck, I need a complete breakdown showing: how many diamonds we have in each clarity grade, their typical price, and the total carats we're holding for each grade.\""
      ]
    },
    {
      "cell_type": "code",
      "execution_count": null,
      "metadata": {
        "colab": {
          "base_uri": "https://localhost:8080/",
          "height": 317
        },
        "id": "I2EFucBW2qA5",
        "outputId": "1eee1323-6abe-43b1-a47e-2e2ebf81b29a"
      },
      "outputs": [
        {
          "output_type": "execute_result",
          "data": {
            "text/plain": [
              "shape: (7, 4)\n",
              "┌─────────┬──────┬──────────────┬──────────────┐\n",
              "│ Clarity ┆ len  ┆ Price        ┆ Carat Weight │\n",
              "│ ---     ┆ ---  ┆ ---          ┆ ---          │\n",
              "│ str     ┆ u32  ┆ f64          ┆ f64          │\n",
              "╞═════════╪══════╪══════════════╪══════════════╡\n",
              "│ SI1     ┆ 2059 ┆ 8018.864012  ┆ 2563.69      │\n",
              "│ VVS2    ┆ 666  ┆ 14142.177177 ┆ 876.58       │\n",
              "│ FL      ┆ 4    ┆ 63776.0      ┆ 7.87         │\n",
              "│ VS2     ┆ 1575 ┆ 11809.053333 ┆ 2170.81      │\n",
              "│ IF      ┆ 219  ┆ 22105.844749 ┆ 316.0        │\n",
              "│ VS1     ┆ 1192 ┆ 13694.113255 ┆ 1682.74      │\n",
              "│ VVS1    ┆ 285  ┆ 16845.680702 ┆ 389.43       │\n",
              "└─────────┴──────┴──────────────┴──────────────┘"
            ],
            "text/html": [
              "<div><style>\n",
              ".dataframe > thead > tr,\n",
              ".dataframe > tbody > tr {\n",
              "  text-align: right;\n",
              "  white-space: pre-wrap;\n",
              "}\n",
              "</style>\n",
              "<small>shape: (7, 4)</small><table border=\"1\" class=\"dataframe\"><thead><tr><th>Clarity</th><th>len</th><th>Price</th><th>Carat Weight</th></tr><tr><td>str</td><td>u32</td><td>f64</td><td>f64</td></tr></thead><tbody><tr><td>&quot;SI1&quot;</td><td>2059</td><td>8018.864012</td><td>2563.69</td></tr><tr><td>&quot;VVS2&quot;</td><td>666</td><td>14142.177177</td><td>876.58</td></tr><tr><td>&quot;FL&quot;</td><td>4</td><td>63776.0</td><td>7.87</td></tr><tr><td>&quot;VS2&quot;</td><td>1575</td><td>11809.053333</td><td>2170.81</td></tr><tr><td>&quot;IF&quot;</td><td>219</td><td>22105.844749</td><td>316.0</td></tr><tr><td>&quot;VS1&quot;</td><td>1192</td><td>13694.113255</td><td>1682.74</td></tr><tr><td>&quot;VVS1&quot;</td><td>285</td><td>16845.680702</td><td>389.43</td></tr></tbody></table></div>"
            ]
          },
          "metadata": {},
          "execution_count": 38
        }
      ],
      "source": [
        "# Your code here:\n",
        "counts = df.group_by('Clarity').len()\n",
        "prices = df.group_by('Clarity').mean()[['Clarity','Price']]\n",
        "carats = df.group_by('Clarity').sum()[['Clarity','Carat Weight']]\n",
        "counts.join(prices, on='Clarity').join(carats, on='Clarity')"
      ]
    },
    {
      "cell_type": "markdown",
      "metadata": {
        "id": "sVy4DW872qA5"
      },
      "source": [
        "### Question 9: \"My luxury competitor claims they have the best prices for every cut-color combination. Show me our pricing structure across these combinations - I want to see where we're competitive.\""
      ]
    },
    {
      "cell_type": "code",
      "execution_count": null,
      "metadata": {
        "colab": {
          "base_uri": "https://localhost:8080/",
          "height": 443
        },
        "id": "RR_1wItL2qA5",
        "outputId": "a69e5741-4aa9-4543-e8fe-578a85e362d2"
      },
      "outputs": [
        {
          "output_type": "execute_result",
          "data": {
            "text/plain": [
              "shape: (30, 3)\n",
              "┌─────────────────┬───────┬──────────────┐\n",
              "│ Cut             ┆ Color ┆ Price        │\n",
              "│ ---             ┆ ---   ┆ ---          │\n",
              "│ str             ┆ str   ┆ f64          │\n",
              "╞═════════════════╪═══════╪══════════════╡\n",
              "│ Signature-Ideal ┆ D     ┆ 19823.1      │\n",
              "│ Ideal           ┆ D     ┆ 18461.953571 │\n",
              "│ Ideal           ┆ F     ┆ 14729.426997 │\n",
              "│ Ideal           ┆ G     ┆ 13570.310145 │\n",
              "│ Signature-Ideal ┆ F     ┆ 13247.947368 │\n",
              "│ …               ┆ …     ┆ …            │\n",
              "│ Fair            ┆ F     ┆ 6063.625     │\n",
              "│ Fair            ┆ D     ┆ 6058.25      │\n",
              "│ Fair            ┆ H     ┆ 5908.5       │\n",
              "│ Fair            ┆ E     ┆ 5370.625     │\n",
              "│ Fair            ┆ I     ┆ 4573.1875    │\n",
              "└─────────────────┴───────┴──────────────┘"
            ],
            "text/html": [
              "<div><style>\n",
              ".dataframe > thead > tr,\n",
              ".dataframe > tbody > tr {\n",
              "  text-align: right;\n",
              "  white-space: pre-wrap;\n",
              "}\n",
              "</style>\n",
              "<small>shape: (30, 3)</small><table border=\"1\" class=\"dataframe\"><thead><tr><th>Cut</th><th>Color</th><th>Price</th></tr><tr><td>str</td><td>str</td><td>f64</td></tr></thead><tbody><tr><td>&quot;Signature-Ideal&quot;</td><td>&quot;D&quot;</td><td>19823.1</td></tr><tr><td>&quot;Ideal&quot;</td><td>&quot;D&quot;</td><td>18461.953571</td></tr><tr><td>&quot;Ideal&quot;</td><td>&quot;F&quot;</td><td>14729.426997</td></tr><tr><td>&quot;Ideal&quot;</td><td>&quot;G&quot;</td><td>13570.310145</td></tr><tr><td>&quot;Signature-Ideal&quot;</td><td>&quot;F&quot;</td><td>13247.947368</td></tr><tr><td>&hellip;</td><td>&hellip;</td><td>&hellip;</td></tr><tr><td>&quot;Fair&quot;</td><td>&quot;F&quot;</td><td>6063.625</td></tr><tr><td>&quot;Fair&quot;</td><td>&quot;D&quot;</td><td>6058.25</td></tr><tr><td>&quot;Fair&quot;</td><td>&quot;H&quot;</td><td>5908.5</td></tr><tr><td>&quot;Fair&quot;</td><td>&quot;E&quot;</td><td>5370.625</td></tr><tr><td>&quot;Fair&quot;</td><td>&quot;I&quot;</td><td>4573.1875</td></tr></tbody></table></div>"
            ]
          },
          "metadata": {},
          "execution_count": 47
        }
      ],
      "source": [
        "# Your code here:\n",
        "df.group_by(['Cut','Color']).mean()[['Cut','Color','Price']].sort('Price', descending=True)"
      ]
    },
    {
      "cell_type": "markdown",
      "metadata": {
        "id": "LWzm0CDL2qA6"
      },
      "source": [
        "**Reflection:** How specific is your analysis now? What level of detail does each row represent?"
      ]
    },
    {
      "cell_type": "markdown",
      "metadata": {
        "id": "CHo4d1g42qA6"
      },
      "source": [
        "**Your answer:** New grain ="
      ]
    },
    {
      "cell_type": "markdown",
      "metadata": {
        "id": "TgEGpE822qA6"
      },
      "source": [
        "### Question 10: URGENT - \"Our biggest client is interested in purchasing entire inventory segments. They asked: 'Which color-cut combinations represent your highest total inventory value?' Show me the top 5 most valuable inventory segments by total worth, and include how many diamonds are in each segment.\"\n",
        "\n",
        "This is critical for tomorrow's negotiation."
      ]
    },
    {
      "cell_type": "code",
      "execution_count": null,
      "metadata": {
        "colab": {
          "base_uri": "https://localhost:8080/",
          "height": 254
        },
        "id": "on95eYSp2qA6",
        "outputId": "d8364cc6-fb95-44c4-da0c-25e36783be73"
      },
      "outputs": [
        {
          "output_type": "execute_result",
          "data": {
            "text/plain": [
              "shape: (5, 5)\n",
              "┌───────────┬───────┬──────────────┬──────────────┬──────────┐\n",
              "│ Cut       ┆ Color ┆ Price        ┆ Carat Weight ┆ total    │\n",
              "│ ---       ┆ ---   ┆ ---          ┆ ---          ┆ ---      │\n",
              "│ str       ┆ str   ┆ f64          ┆ f64          ┆ f64      │\n",
              "╞═══════════╪═══════╪══════════════╪══════════════╪══════════╡\n",
              "│ Ideal     ┆ G     ┆ 13570.310145 ┆ 966.9        ┆ 1.3121e7 │\n",
              "│ Very Good ┆ G     ┆ 12354.013841 ┆ 795.4        ┆ 9.8264e6 │\n",
              "│ Ideal     ┆ H     ┆ 11527.700873 ┆ 653.15       ┆ 7.5293e6 │\n",
              "│ Ideal     ┆ F     ┆ 14729.426997 ┆ 502.01       ┆ 7.3943e6 │\n",
              "│ Very Good ┆ F     ┆ 12413.905495 ┆ 592.77       ┆ 7.3586e6 │\n",
              "└───────────┴───────┴──────────────┴──────────────┴──────────┘"
            ],
            "text/html": [
              "<div><style>\n",
              ".dataframe > thead > tr,\n",
              ".dataframe > tbody > tr {\n",
              "  text-align: right;\n",
              "  white-space: pre-wrap;\n",
              "}\n",
              "</style>\n",
              "<small>shape: (5, 5)</small><table border=\"1\" class=\"dataframe\"><thead><tr><th>Cut</th><th>Color</th><th>Price</th><th>Carat Weight</th><th>total</th></tr><tr><td>str</td><td>str</td><td>f64</td><td>f64</td><td>f64</td></tr></thead><tbody><tr><td>&quot;Ideal&quot;</td><td>&quot;G&quot;</td><td>13570.310145</td><td>966.9</td><td>1.3121e7</td></tr><tr><td>&quot;Very Good&quot;</td><td>&quot;G&quot;</td><td>12354.013841</td><td>795.4</td><td>9.8264e6</td></tr><tr><td>&quot;Ideal&quot;</td><td>&quot;H&quot;</td><td>11527.700873</td><td>653.15</td><td>7.5293e6</td></tr><tr><td>&quot;Ideal&quot;</td><td>&quot;F&quot;</td><td>14729.426997</td><td>502.01</td><td>7.3943e6</td></tr><tr><td>&quot;Very Good&quot;</td><td>&quot;F&quot;</td><td>12413.905495</td><td>592.77</td><td>7.3586e6</td></tr></tbody></table></div>"
            ]
          },
          "metadata": {},
          "execution_count": 56
        }
      ],
      "source": [
        "# Your code here:\n",
        "prices = df.group_by(['Cut','Color']).mean()[['Cut','Color','Price']]\n",
        "weights = df.group_by(['Cut','Color']).sum()[['Cut','Color','Carat Weight']]\n",
        "table = prices.join(weights, on=['Cut','Color'])\n",
        "\n",
        "\n",
        "# Create 'col_c' by adding 'col_a' and 'col_b'\n",
        "table = table.with_columns(\n",
        "    (pl.col('Price') * pl.col('Carat Weight')).alias('total')\n",
        ")\n",
        "\n",
        "table.sort('total', descending=True).head(5)"
      ]
    },
    {
      "cell_type": "markdown",
      "metadata": {
        "id": "w8Xj6QPH2qA6"
      },
      "source": [
        "## Debrief\n",
        "\n",
        "Congratulations! You've just completed your first day as the diamond company's data analyst.\n",
        "\n",
        "Remember:\n",
        "- CEOs speak in business language, not technical terms\n",
        "- Always understand what each row represents before analyzing\n",
        "- Business questions contain clues about which operations to use"
      ]
    }
  ],
  "metadata": {
    "kernelspec": {
      "display_name": "Python 3",
      "language": "python",
      "name": "python3"
    },
    "language_info": {
      "codemirror_mode": {
        "name": "ipython",
        "version": 3
      },
      "file_extension": ".py",
      "mimetype": "text/x-python",
      "name": "python",
      "nbconvert_exporter": "python",
      "pygments_lexer": "ipython3",
      "version": "3.12.0"
    },
    "colab": {
      "provenance": [],
      "collapsed_sections": [
        "00MAthS_2qA2",
        "bPkFykMg2qA4"
      ]
    }
  },
  "nbformat": 4,
  "nbformat_minor": 0
}